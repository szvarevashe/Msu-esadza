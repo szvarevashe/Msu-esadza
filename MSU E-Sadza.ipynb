{
 "cells": [
  {
   "cell_type": "code",
   "execution_count": 16,
   "id": "82c8c980",
   "metadata": {},
   "outputs": [],
   "source": [
    "import mysql.connector\n",
    "import pandas as pd"
   ]
  },
  {
   "cell_type": "markdown",
   "id": "aafc70ac",
   "metadata": {},
   "source": [
    "# Connect to database"
   ]
  },
  {
   "cell_type": "code",
   "execution_count": 2,
   "id": "02cfbb88",
   "metadata": {},
   "outputs": [
    {
     "name": "stdout",
     "output_type": "stream",
     "text": [
      "<mysql.connector.connection_cext.CMySQLConnection object at 0x0000026D7DA9BFD0>\n"
     ]
    }
   ],
   "source": [
    "import mysql.connector\n",
    "\n",
    "mydb = mysql.connector.connect(\n",
    "  host=\"localhost\",\n",
    "  user=\"root\",\n",
    "  password=\"\",\n",
    "  database=\"msu e-sadza\"\n",
    ")\n",
    "\n",
    "print(mydb)"
   ]
  },
  {
   "cell_type": "markdown",
   "id": "983e45f6",
   "metadata": {},
   "source": [
    "# Register students into E-Sadza system"
   ]
  },
  {
   "cell_type": "code",
   "execution_count": 3,
   "id": "421b6168",
   "metadata": {},
   "outputs": [
    {
     "name": "stdout",
     "output_type": "stream",
     "text": [
      "Please create E-Sadza account\n",
      "Enter Reg Numberh144\n",
      "Enter usernametesr\n",
      "Enter passwordtest\n",
      "1 record inserted.\n"
     ]
    }
   ],
   "source": [
    "print(\"Please create E-Sadza account\")\n",
    "reg_number = input(\"Enter Reg Number\")\n",
    "username = input(\"Enter username\")\n",
    "password = input (\"Enter password\")\n",
    "mycursor = mydb.cursor()\n",
    "sql = \"INSERT INTO login (username, password,reg_number) VALUES (%s, %s,%s)\"\n",
    "val = (username,password,reg_number)\n",
    "mycursor.execute(sql, val)\n",
    "\n",
    "mydb.commit()\n",
    "\n",
    "print(mycursor.rowcount, \"record inserted.\")"
   ]
  },
  {
   "cell_type": "markdown",
   "id": "7d67eb23",
   "metadata": {},
   "source": [
    "# Add money to student Account"
   ]
  },
  {
   "cell_type": "code",
   "execution_count": 11,
   "id": "9c27c874",
   "metadata": {},
   "outputs": [
    {
     "name": "stdout",
     "output_type": "stream",
     "text": [
      "Add amount to account\n",
      "Enter Reg Numberh144\n",
      "Enter amount12\n",
      "123.0\n",
      "135.0\n"
     ]
    }
   ],
   "source": [
    "print(\"Add amount to account\")\n",
    "reg_number = input(\"Enter Reg Number\")\n",
    "mycursor = mydb.cursor()\n",
    "\n",
    "sql = \"SELECT * FROM login WHERE reg_number = %s\"\n",
    "val = (reg_number,)\n",
    "mycursor.execute(sql, val)\n",
    "myresult = mycursor.fetchall()\n",
    "\n",
    "if len(myresult)==0:\n",
    "    print(\"Student is not registered\")\n",
    "else:\n",
    "    amount = float(input(\"Enter amount\"))\n",
    "    sql = \"SELECT amount FROM account WHERE reg_number = %s\"\n",
    "    val = (reg_number,)\n",
    "    mycursor.execute(sql, val)\n",
    "    myresult = mycursor.fetchall()\n",
    "    if len(myresult)==0:\n",
    "        sql = \"INSERT INTO account (reg_number, amount) VALUES (%s, %s)\"\n",
    "        val = (reg_number,amount)\n",
    "        mycursor.execute(sql, val)\n",
    "        mydb.commit()\n",
    "    else:\n",
    "        amount = amount + myresult[0][0]\n",
    "        sql = \"UPDATE account set amount = %s where reg_number = %s\"\n",
    "        val = (amount,reg_number)\n",
    "        mycursor.execute(sql, val)\n",
    "        mydb.commit()\n"
   ]
  },
  {
   "cell_type": "markdown",
   "id": "ff02cf57",
   "metadata": {},
   "source": [
    "# Get all products from database"
   ]
  },
  {
   "cell_type": "code",
   "execution_count": 18,
   "id": "3ef500a9",
   "metadata": {},
   "outputs": [
    {
     "data": {
      "text/html": [
       "<div>\n",
       "<style scoped>\n",
       "    .dataframe tbody tr th:only-of-type {\n",
       "        vertical-align: middle;\n",
       "    }\n",
       "\n",
       "    .dataframe tbody tr th {\n",
       "        vertical-align: top;\n",
       "    }\n",
       "\n",
       "    .dataframe thead th {\n",
       "        text-align: right;\n",
       "    }\n",
       "</style>\n",
       "<table border=\"1\" class=\"dataframe\">\n",
       "  <thead>\n",
       "    <tr style=\"text-align: right;\">\n",
       "      <th></th>\n",
       "      <th>ID</th>\n",
       "      <th>Product</th>\n",
       "      <th>Price/$</th>\n",
       "    </tr>\n",
       "  </thead>\n",
       "  <tbody>\n",
       "    <tr>\n",
       "      <th>0</th>\n",
       "      <td>1</td>\n",
       "      <td>Sadza</td>\n",
       "      <td>0.5</td>\n",
       "    </tr>\n",
       "    <tr>\n",
       "      <th>1</th>\n",
       "      <td>2</td>\n",
       "      <td>beans</td>\n",
       "      <td>0.5</td>\n",
       "    </tr>\n",
       "    <tr>\n",
       "      <th>2</th>\n",
       "      <td>3</td>\n",
       "      <td>chicken piece</td>\n",
       "      <td>1.0</td>\n",
       "    </tr>\n",
       "  </tbody>\n",
       "</table>\n",
       "</div>"
      ],
      "text/plain": [
       "   ID        Product  Price/$\n",
       "0   1          Sadza      0.5\n",
       "1   2          beans      0.5\n",
       "2   3  chicken piece      1.0"
      ]
     },
     "execution_count": 18,
     "metadata": {},
     "output_type": "execute_result"
    }
   ],
   "source": [
    "products = []\n",
    "mycursor = mydb.cursor()\n",
    "sql = \"SELECT * FROM product_list\"\n",
    "mycursor.execute(sql)\n",
    "myresult = mycursor.fetchall()\n",
    "for x in myresult:\n",
    "    products.append(list(x))\n",
    "df = pd.DataFrame(products,columns=[\"ID\",\"Product\",\"Price/$\"])\n",
    "df"
   ]
  },
  {
   "cell_type": "markdown",
   "id": "88ea8aa8",
   "metadata": {},
   "source": [
    "# Buy from Canteen"
   ]
  },
  {
   "cell_type": "code",
   "execution_count": 37,
   "id": "f805e547",
   "metadata": {},
   "outputs": [
    {
     "name": "stdout",
     "output_type": "stream",
     "text": [
      "Enter Product ID to cart,press 0 to stop\n",
      "Enter product ID2\n",
      "Enter product ID3\n",
      "Enter product ID0\n"
     ]
    }
   ],
   "source": [
    "print(\"Enter Product ID to cart,press 0 to stop\")\n",
    "reg_number = int(input(\"Enter Reg Number\"))\n",
    "sql = \"SELECT amount FROM account WHERE reg_number = %s\"\n",
    "val = (reg_number,)\n",
    "mycursor.execute(sql, val)\n",
    "myresult = mycursor.fetchall()\n",
    "total_amount = 0\n",
    "if len(myresult)==0:\n",
    "    print(\"Student not registered\")\n",
    "else:\n",
    "    total_amount = myresult[0][0]\n",
    "\n",
    "\n",
    "cart_product = int(input(\"Enter product ID\"))\n",
    "cart= []\n",
    "while cart_product != 0:\n",
    "    if cart_product not in list(df.ID):\n",
    "        print(\"Product ID does not exist\")\n",
    "    elif cart_product in cart:\n",
    "        print(\"Product already in cart\")\n",
    "    else:\n",
    "        sql = \"SELECT price FROM product_list WHERE id = %s\"\n",
    "        val = (cart_product,)\n",
    "        mycursor.execute(sql, val)\n",
    "        myresult = mycursor.fetchall()\n",
    "        cart.append(myresult[0][0])\n",
    "    cart_product = int(input(\"Enter product ID\"))\n",
    "\n",
    "if sum(cart) > total_amount:\n",
    "    print(\"Not enough funds in account\")\n",
    "else:\n",
    "    amount = total_amount - sum(cart)\n",
    "    sql = \"UPDATE account set amount = %s where reg_number = %s\"\n",
    "    val = (amount,reg_number)\n",
    "    mycursor.execute(sql, val)\n",
    "    mydb.commit()"
   ]
  },
  {
   "cell_type": "markdown",
   "id": "712298aa",
   "metadata": {},
   "source": [
    "# Check Student Balance"
   ]
  },
  {
   "cell_type": "code",
   "execution_count": 38,
   "id": "84d53267",
   "metadata": {},
   "outputs": [
    {
     "data": {
      "text/plain": [
       "[0.5, 1.0]"
      ]
     },
     "execution_count": 38,
     "metadata": {},
     "output_type": "execute_result"
    }
   ],
   "source": [
    "reg_number = input(\"Enter Reg Number\")\n",
    "sql = \"SELECT amount FROM account WHERE reg_number = %s\"\n",
    "val = (reg_number,)\n",
    "mycursor.execute(sql, val)\n",
    "myresult = mycursor.fetchall()\n",
    "print(myresult[0][0])"
   ]
  },
  {
   "cell_type": "markdown",
   "id": "2018ac3c",
   "metadata": {},
   "source": [
    "# Check Student Details"
   ]
  },
  {
   "cell_type": "code",
   "execution_count": 43,
   "id": "1ea7bd39",
   "metadata": {},
   "outputs": [
    {
     "name": "stdout",
     "output_type": "stream",
     "text": [
      "Enter Reg Numberh144\n",
      "(2, 'tesr', 'test', 'h144')\n"
     ]
    }
   ],
   "source": [
    "reg_number = input(\"Enter Reg Number\")\n",
    "sql = \"SELECT * FROM login WHERE reg_number = %s\"\n",
    "val = (reg_number,)\n",
    "mycursor.execute(sql, val)\n",
    "myresult = mycursor.fetchall()\n",
    "print(myresult[0])"
   ]
  },
  {
   "cell_type": "code",
   "execution_count": null,
   "id": "78bae6f3",
   "metadata": {},
   "outputs": [],
   "source": []
  }
 ],
 "metadata": {
  "kernelspec": {
   "display_name": "Python 3 (ipykernel)",
   "language": "python",
   "name": "python3"
  },
  "language_info": {
   "codemirror_mode": {
    "name": "ipython",
    "version": 3
   },
   "file_extension": ".py",
   "mimetype": "text/x-python",
   "name": "python",
   "nbconvert_exporter": "python",
   "pygments_lexer": "ipython3",
   "version": "3.9.12"
  }
 },
 "nbformat": 4,
 "nbformat_minor": 5
}
